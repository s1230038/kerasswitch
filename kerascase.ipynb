{
 "cells": [
  {
   "cell_type": "code",
   "execution_count": 1,
   "metadata": {
    "scrolled": true
   },
   "outputs": [
    {
     "name": "stderr",
     "output_type": "stream",
     "text": [
      "Using TensorFlow backend.\n"
     ]
    }
   ],
   "source": [
    "import keras\n",
    "from keras.models import Model\n",
    "from keras.layers import Dense, Input, Lambda\n",
    "from keras.optimizers import Adam\n",
    "import keras.backend as K\n",
    "from keras.utils.vis_utils import model_to_dot\n",
    "from keras.utils import plot_model\n",
    "\n",
    "import numpy as np\n",
    "import matplotlib.pyplot as plt\n",
    "import seaborn as sn\n",
    "import pydot\n",
    "from IPython.display import SVG"
   ]
  },
  {
   "cell_type": "markdown",
   "metadata": {},
   "source": [
    "## dataset"
   ]
  },
  {
   "cell_type": "code",
   "execution_count": 2,
   "metadata": {},
   "outputs": [],
   "source": [
    "# and, or, xor, nor, nand\n",
    "X = np.array([[0,0,0],[0,1,0],[1,0,0],[1,1,0], #and\n",
    "              [0,0,1],[0,1,1],[1,0,1],[1,1,1], #or\n",
    "              [0,0,2],[0,1,2],[1,0,2],[1,1,2], #xor\n",
    "              [0,0,3],[0,1,3],[1,0,3],[1,1,3], #nor\n",
    "              [0,0,4],[0,1,4],[1,0,4],[1,1,4]]) #nand\n",
    "Y = np.array([0,0,0,1, #and\n",
    "              0,1,1,1, #or\n",
    "              0,1,1,0, #xor\n",
    "              1,0,0,0, #nor\n",
    "              1,1,1,0]) #nand"
   ]
  },
  {
   "cell_type": "code",
   "execution_count": 3,
   "metadata": {},
   "outputs": [],
   "source": [
    "Y = keras.utils.to_categorical(Y, 2)"
   ]
  },
  {
   "cell_type": "code",
   "execution_count": 4,
   "metadata": {
    "scrolled": true
   },
   "outputs": [
    {
     "name": "stdout",
     "output_type": "stream",
     "text": [
      "(20, 3)\n",
      "(20, 2)\n",
      "[[0 0 0]\n",
      " [0 1 0]\n",
      " [1 0 0]\n",
      " [1 1 0]\n",
      " [0 0 1]\n",
      " [0 1 1]\n",
      " [1 0 1]\n",
      " [1 1 1]\n",
      " [0 0 2]\n",
      " [0 1 2]\n",
      " [1 0 2]\n",
      " [1 1 2]\n",
      " [0 0 3]\n",
      " [0 1 3]\n",
      " [1 0 3]\n",
      " [1 1 3]\n",
      " [0 0 4]\n",
      " [0 1 4]\n",
      " [1 0 4]\n",
      " [1 1 4]]\n",
      "[[ 1.  0.]\n",
      " [ 1.  0.]\n",
      " [ 1.  0.]\n",
      " [ 0.  1.]\n",
      " [ 1.  0.]\n",
      " [ 0.  1.]\n",
      " [ 0.  1.]\n",
      " [ 0.  1.]\n",
      " [ 1.  0.]\n",
      " [ 0.  1.]\n",
      " [ 0.  1.]\n",
      " [ 1.  0.]\n",
      " [ 0.  1.]\n",
      " [ 1.  0.]\n",
      " [ 1.  0.]\n",
      " [ 1.  0.]\n",
      " [ 0.  1.]\n",
      " [ 0.  1.]\n",
      " [ 0.  1.]\n",
      " [ 1.  0.]]\n"
     ]
    }
   ],
   "source": [
    "print(X.shape)\n",
    "print(Y.shape)\n",
    "print(X)\n",
    "print(Y)"
   ]
  },
  {
   "cell_type": "code",
   "execution_count": null,
   "metadata": {},
   "outputs": [],
   "source": []
  },
  {
   "cell_type": "markdown",
   "metadata": {},
   "source": [
    "## using Keras.backend.switch"
   ]
  },
  {
   "cell_type": "code",
   "execution_count": 5,
   "metadata": {},
   "outputs": [],
   "source": [
    "# input layer\n",
    "inputs = Input(shape=X.shape[1:],name=\"input\")"
   ]
  },
  {
   "cell_type": "code",
   "execution_count": 6,
   "metadata": {},
   "outputs": [],
   "source": [
    "# and layers and or layers\n",
    "def andGate(inputs=inputs):\n",
    "    andDense = Dense(32, activation=\"relu\", name=\"and1\")(inputs) \n",
    "    return andDense\n",
    "def orGate(inputs=inputs):\n",
    "    orDense = Dense(32, activation=\"sigmoid\", name=\"or1\")(inputs)     \n",
    "    return orDense\n",
    "def xorGate(inputs=inputs):\n",
    "    xorDense = Dense(32, activation=\"tanh\", name=\"xor1\")(inputs)\n",
    "    return xorDense\n",
    "def norGate(inputs=inputs):\n",
    "    norDense = Dense(32, activation=\"sigmoid\", name=\"nor1\")(inputs)\n",
    "    norDense = Dense(32, activation=\"relu\", name=\"nor2\")(norDense)\n",
    "    return norDense\n",
    "def nandGate(inputs=inputs):\n",
    "    nandDense = Dense(16, activation=\"relu\", name=\"nand1\")(inputs)\n",
    "    nandDense = Dense(32, activation=\"relu\", name=\"nand2\")(nandDense)\n",
    "    return nandDense"
   ]
  },
  {
   "cell_type": "code",
   "execution_count": 7,
   "metadata": {
    "scrolled": true
   },
   "outputs": [],
   "source": [
    "x_case = Lambda(lambda x: K.switch(K.equal(x[:,2],0),\n",
    "                                   andGate(x[:,:2]),\n",
    "                                   K.switch(K.equal(x[:,2],1),\n",
    "                                            orGate(x[:,:2]),\n",
    "                                            K.switch(K.equal(x[:,2],2),\n",
    "                                                     xorGate(x[:,:2]),\n",
    "                                                     K.switch(K.equal(x[:,2],3),\n",
    "                                                              norGate(x[:,:2]),\n",
    "                                                              nandGate(x[:,:2]))))),\n",
    "                  output_shape=(32,))(inputs)"
   ]
  },
  {
   "cell_type": "code",
   "execution_count": 8,
   "metadata": {},
   "outputs": [
    {
     "name": "stdout",
     "output_type": "stream",
     "text": [
      "_________________________________________________________________\n",
      "Layer (type)                 Output Shape              Param #   \n",
      "=================================================================\n",
      "input (InputLayer)           (None, 3)                 0         \n",
      "_________________________________________________________________\n",
      "lambda_1 (Lambda)            (None, 32)                0         \n",
      "_________________________________________________________________\n",
      "softmax (Dense)              (None, 2)                 66        \n",
      "=================================================================\n",
      "Total params: 66\n",
      "Trainable params: 66\n",
      "Non-trainable params: 0\n",
      "_________________________________________________________________\n"
     ]
    }
   ],
   "source": [
    "# output layer\n",
    "outputs = Dense(2, activation=\"softmax\", name=\"softmax\")(x_case)\n",
    "# model\n",
    "model = Model(inputs, outputs)\n",
    "model.compile(loss='categorical_crossentropy',\n",
    "              optimizer=Adam(),\n",
    "              metrics=['accuracy'])\n",
    "model.summary()"
   ]
  },
  {
   "cell_type": "code",
   "execution_count": 9,
   "metadata": {},
   "outputs": [
    {
     "name": "stdout",
     "output_type": "stream",
     "text": [
      "\r",
      "20/20 [==============================] - 0s 973us/step\n"
     ]
    },
    {
     "data": {
      "text/plain": [
       "[0.49733442068099976, 0.75]"
      ]
     },
     "execution_count": 9,
     "metadata": {},
     "output_type": "execute_result"
    }
   ],
   "source": [
    "# train and evaluate\n",
    "model.fit(X, Y,\n",
    "          batch_size=4,\n",
    "          epochs=5000,\n",
    "          verbose=0,\n",
    "          shuffle=True)\n",
    "model.evaluate(X,Y)"
   ]
  },
  {
   "cell_type": "code",
   "execution_count": null,
   "metadata": {},
   "outputs": [],
   "source": []
  },
  {
   "cell_type": "markdown",
   "metadata": {},
   "source": [
    "## case function"
   ]
  },
  {
   "cell_type": "code",
   "execution_count": 10,
   "metadata": {},
   "outputs": [],
   "source": [
    "def case(case_and_proc, default):\n",
    "    \"\"\"\n",
    "    case_and_proc: pairs of case and process in list type or dict type\n",
    "    default: default process. i.e. executed whenever the condition doesn't match any case\n",
    "    \"\"\"\n",
    "    print(case_and_proc)\n",
    "    if type(case_and_proc) == list:\n",
    "        for cnum in range(len(case_and_proc)):\n",
    "            if cnum == 0:\n",
    "                print(case_and_proc[cnum][1])\n",
    "                print(default)\n",
    "                x = K.switch(case_and_proc[cnum][0], case_and_proc[cnum][1], default)\n",
    "            else:\n",
    "                print(case_and_proc[cnum][1])\n",
    "                x = K.switch(case_and_proc[cnum][0], case_and_proc[cnum][1], x)\n",
    "    elif type(case_and_proc) == dict:\n",
    "        for i, (cond, expression) in enumerate(case_and_proc.items()):\n",
    "            if i == 0:\n",
    "                print(case_and_proc[cond])\n",
    "                print(default)\n",
    "                x = K.switch(cond, expression, default)\n",
    "            else:\n",
    "                print(case_and_proc[cond])\n",
    "                x = K.switch(cond, expression, x)\n",
    "    return x"
   ]
  },
  {
   "cell_type": "code",
   "execution_count": 11,
   "metadata": {},
   "outputs": [],
   "source": [
    "# input layer\n",
    "inputs = Input(shape=X.shape[1:],name=\"input\")"
   ]
  },
  {
   "cell_type": "code",
   "execution_count": 12,
   "metadata": {
    "scrolled": true
   },
   "outputs": [
    {
     "name": "stdout",
     "output_type": "stream",
     "text": [
      "{<tf.Tensor 'lambda_2/Equal:0' shape=(?,) dtype=bool>: <tf.Tensor 'lambda_2/and1/Relu:0' shape=(?, 32) dtype=float32>, <tf.Tensor 'lambda_2/Equal_1:0' shape=(?,) dtype=bool>: <tf.Tensor 'lambda_2/or1/Sigmoid:0' shape=(?, 32) dtype=float32>, <tf.Tensor 'lambda_2/Equal_3:0' shape=(?,) dtype=bool>: <tf.Tensor 'lambda_2/nor2/Relu:0' shape=(?, 32) dtype=float32>, <tf.Tensor 'lambda_2/Equal_2:0' shape=(?,) dtype=bool>: <tf.Tensor 'lambda_2/xor1/Tanh:0' shape=(?, 32) dtype=float32>}\n",
      "Tensor(\"lambda_2/and1/Relu:0\", shape=(?, 32), dtype=float32)\n",
      "Tensor(\"lambda_2/nand2/Relu:0\", shape=(?, 32), dtype=float32)\n",
      "Tensor(\"lambda_2/or1/Sigmoid:0\", shape=(?, 32), dtype=float32)\n",
      "Tensor(\"lambda_2/nor2/Relu:0\", shape=(?, 32), dtype=float32)\n",
      "Tensor(\"lambda_2/xor1/Tanh:0\", shape=(?, 32), dtype=float32)\n"
     ]
    }
   ],
   "source": [
    "x_case = Lambda(lambda x: case({K.equal(x[:,2],0): andGate(x[:,:2]),\n",
    "                                K.equal(x[:,2],1): orGate(x[:,:2]),\n",
    "                                K.equal(x[:,2],2): xorGate(x[:,:2]),\n",
    "                                K.equal(x[:,2],3): norGate(x[:,:2])},\n",
    "                               default=nandGate(x[:,:2])),\n",
    "               output_shape=(32,))(inputs)"
   ]
  },
  {
   "cell_type": "code",
   "execution_count": 13,
   "metadata": {},
   "outputs": [
    {
     "name": "stdout",
     "output_type": "stream",
     "text": [
      "_________________________________________________________________\n",
      "Layer (type)                 Output Shape              Param #   \n",
      "=================================================================\n",
      "input (InputLayer)           (None, 3)                 0         \n",
      "_________________________________________________________________\n",
      "lambda_2 (Lambda)            (None, 32)                0         \n",
      "_________________________________________________________________\n",
      "softmax (Dense)              (None, 2)                 66        \n",
      "=================================================================\n",
      "Total params: 66\n",
      "Trainable params: 66\n",
      "Non-trainable params: 0\n",
      "_________________________________________________________________\n"
     ]
    }
   ],
   "source": [
    "# output layer\n",
    "outputs = Dense(2, activation=\"softmax\", name=\"softmax\")(x_case)\n",
    "# model\n",
    "model = Model(inputs, outputs)\n",
    "model.compile(loss='categorical_crossentropy',\n",
    "              optimizer=Adam(),\n",
    "              metrics=['accuracy'])\n",
    "model.summary()"
   ]
  },
  {
   "cell_type": "code",
   "execution_count": 14,
   "metadata": {},
   "outputs": [
    {
     "name": "stdout",
     "output_type": "stream",
     "text": [
      "\r",
      "20/20 [==============================] - 0s 2ms/step\n"
     ]
    },
    {
     "data": {
      "text/plain": [
       "[0.38875028491020203, 0.85000002384185791]"
      ]
     },
     "execution_count": 14,
     "metadata": {},
     "output_type": "execute_result"
    }
   ],
   "source": [
    "# train and evaluate\n",
    "model.fit(X, Y,\n",
    "          batch_size=4,\n",
    "          epochs=5000,\n",
    "          verbose=0,\n",
    "          shuffle=True)\n",
    "model.evaluate(X,Y)"
   ]
  },
  {
   "cell_type": "code",
   "execution_count": null,
   "metadata": {},
   "outputs": [],
   "source": []
  },
  {
   "cell_type": "code",
   "execution_count": 15,
   "metadata": {},
   "outputs": [],
   "source": [
    "# input layer\n",
    "inputs = Input(shape=X.shape[1:],name=\"input\")"
   ]
  },
  {
   "cell_type": "code",
   "execution_count": 16,
   "metadata": {
    "scrolled": true
   },
   "outputs": [
    {
     "name": "stdout",
     "output_type": "stream",
     "text": [
      "[(<tf.Tensor 'lambda_3/Equal:0' shape=(?,) dtype=bool>, <tf.Tensor 'lambda_3/and1/Relu:0' shape=(?, 32) dtype=float32>), (<tf.Tensor 'lambda_3/Equal_1:0' shape=(?,) dtype=bool>, <tf.Tensor 'lambda_3/or1/Sigmoid:0' shape=(?, 32) dtype=float32>), (<tf.Tensor 'lambda_3/Equal_2:0' shape=(?,) dtype=bool>, <tf.Tensor 'lambda_3/xor1/Tanh:0' shape=(?, 32) dtype=float32>), (<tf.Tensor 'lambda_3/Equal_3:0' shape=(?,) dtype=bool>, <tf.Tensor 'lambda_3/nor2/Relu:0' shape=(?, 32) dtype=float32>)]\n",
      "Tensor(\"lambda_3/and1/Relu:0\", shape=(?, 32), dtype=float32)\n",
      "Tensor(\"lambda_3/nand2/Relu:0\", shape=(?, 32), dtype=float32)\n",
      "Tensor(\"lambda_3/or1/Sigmoid:0\", shape=(?, 32), dtype=float32)\n",
      "Tensor(\"lambda_3/xor1/Tanh:0\", shape=(?, 32), dtype=float32)\n",
      "Tensor(\"lambda_3/nor2/Relu:0\", shape=(?, 32), dtype=float32)\n"
     ]
    }
   ],
   "source": [
    "x_case = Lambda(lambda x: case([(K.equal(x[:,2],0), andGate(x[:,:2])),\n",
    "                                (K.equal(x[:,2],1), orGate(x[:,:2])),\n",
    "                                (K.equal(x[:,2],2), xorGate(x[:,:2])),\n",
    "                                (K.equal(x[:,2],3), norGate(x[:,:2]))],\n",
    "                               default=nandGate(x[:,:2])),\n",
    "               output_shape=(32,))(inputs)"
   ]
  },
  {
   "cell_type": "code",
   "execution_count": 17,
   "metadata": {},
   "outputs": [
    {
     "name": "stdout",
     "output_type": "stream",
     "text": [
      "_________________________________________________________________\n",
      "Layer (type)                 Output Shape              Param #   \n",
      "=================================================================\n",
      "input (InputLayer)           (None, 3)                 0         \n",
      "_________________________________________________________________\n",
      "lambda_3 (Lambda)            (None, 32)                0         \n",
      "_________________________________________________________________\n",
      "softmax (Dense)              (None, 2)                 66        \n",
      "=================================================================\n",
      "Total params: 66\n",
      "Trainable params: 66\n",
      "Non-trainable params: 0\n",
      "_________________________________________________________________\n"
     ]
    }
   ],
   "source": [
    "# output layer\n",
    "outputs = Dense(2, activation=\"softmax\", name=\"softmax\")(x_case)\n",
    "# model\n",
    "model = Model(inputs, outputs)\n",
    "model.compile(loss='categorical_crossentropy',\n",
    "              optimizer=Adam(),\n",
    "              metrics=['accuracy'])\n",
    "model.summary()"
   ]
  },
  {
   "cell_type": "code",
   "execution_count": 18,
   "metadata": {},
   "outputs": [
    {
     "name": "stdout",
     "output_type": "stream",
     "text": [
      "\r",
      "20/20 [==============================] - 0s 2ms/step\n"
     ]
    },
    {
     "data": {
      "text/plain": [
       "[0.43193340301513672, 0.85000002384185791]"
      ]
     },
     "execution_count": 18,
     "metadata": {},
     "output_type": "execute_result"
    }
   ],
   "source": [
    "# train and evaluate\n",
    "model.fit(X, Y,\n",
    "          batch_size=4,\n",
    "          epochs=5000,\n",
    "          verbose=0,\n",
    "          shuffle=True)\n",
    "model.evaluate(X,Y)"
   ]
  },
  {
   "cell_type": "code",
   "execution_count": null,
   "metadata": {},
   "outputs": [],
   "source": []
  },
  {
   "cell_type": "code",
   "execution_count": null,
   "metadata": {},
   "outputs": [],
   "source": []
  },
  {
   "cell_type": "code",
   "execution_count": null,
   "metadata": {},
   "outputs": [],
   "source": []
  },
  {
   "cell_type": "code",
   "execution_count": null,
   "metadata": {},
   "outputs": [],
   "source": []
  }
 ],
 "metadata": {
  "anaconda-cloud": {},
  "kernelspec": {
   "display_name": "Python [default]",
   "language": "python",
   "name": "python3"
  },
  "language_info": {
   "codemirror_mode": {
    "name": "ipython",
    "version": 3
   },
   "file_extension": ".py",
   "mimetype": "text/x-python",
   "name": "python",
   "nbconvert_exporter": "python",
   "pygments_lexer": "ipython3",
   "version": "3.5.2"
  }
 },
 "nbformat": 4,
 "nbformat_minor": 1
}
